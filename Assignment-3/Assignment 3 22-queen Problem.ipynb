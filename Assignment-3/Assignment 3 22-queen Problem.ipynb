{
 "cells": [
  {
   "cell_type": "markdown",
   "metadata": {},
   "source": [
    "## Assignment 3, 22-Queen Problem"
   ]
  },
  {
   "cell_type": "markdown",
   "metadata": {},
   "source": [
    "Your homework must be implemented in this Notebook file. \n",
    "You can add as many cells as you want. However, you are not allowed to touch the code below the line \"=============\".\n"
   ]
  },
  {
   "cell_type": "code",
   "execution_count": 26,
   "metadata": {},
   "outputs": [],
   "source": [
    "n=6"
   ]
  },
  {
   "cell_type": "code",
   "execution_count": 27,
   "metadata": {},
   "outputs": [],
   "source": [
    "class N_Queens_Backtrack:\n",
    "    def __init__(self, n):\n",
    "        self.n = n\n",
    "        self.board = [-1] * n\n",
    "        self.solutions = []\n",
    "\n",
    "    def is_safe(self, row, col):\n",
    "        # In this function we check if there is a queen in the same row\n",
    "        for i in range(row):\n",
    "            if self.board[i] == col or \\\n",
    "               self.board[i] - i == col - row or \\\n",
    "               self.board[i] + i == col + row:\n",
    "                return False\n",
    "        return True\n",
    "\n",
    "    def solve_nqueens(self, row=0):\n",
    "        # in this case all queens are placed on the board\n",
    "        if row == self.n:\n",
    "            self.solutions.append(self.board[:])\n",
    "            return\n",
    "        # We solve for a queen in row and check if its safe or else we backtrack and do \n",
    "        # the recursive backtracing to place the queens\n",
    "        for col in range(self.n):\n",
    "            if self.is_safe(row, col):\n",
    "                self.board[row] = col\n",
    "                self.solve_nqueens(row+1)\n",
    "                self.board[row] = -1\n",
    "\n",
    "    def get_solutions(self):\n",
    "        self.solve_nqueens()\n",
    "        return self.solutions\n"
   ]
  },
  {
   "cell_type": "code",
   "execution_count": 28,
   "metadata": {},
   "outputs": [],
   "source": [
    "def print_result():\n",
    "    nqueen = N_Queens_Backtrack(n)\n",
    "    solution = nqueen.get_solutions()\n",
    "    for i in range(4):    \n",
    "        for row, col in enumerate(solution[i]):\n",
    "            print(f\"({row}, {col}) \", end=\"\")\n",
    "        print()"
   ]
  },
  {
   "cell_type": "markdown",
   "metadata": {},
   "source": [
    "You can insert as many cells as you want above.\n",
    "You are not Allowed to modify the code below this line.\n",
    "# ==============================="
   ]
  },
  {
   "cell_type": "code",
   "execution_count": 29,
   "metadata": {},
   "outputs": [
    {
     "name": "stdout",
     "output_type": "stream",
     "text": [
      "(0, 1) (1, 3) (2, 5) (3, 0) (4, 2) (5, 4) \n",
      "(0, 2) (1, 5) (2, 1) (3, 4) (4, 0) (5, 3) \n",
      "(0, 3) (1, 0) (2, 4) (3, 1) (4, 5) (5, 2) \n",
      "(0, 4) (1, 2) (2, 0) (3, 5) (4, 3) (5, 1) \n"
     ]
    }
   ],
   "source": [
    "#you need to implement print_result function to print out the result according to the required format\n",
    "print_result()"
   ]
  },
  {
   "cell_type": "markdown",
   "metadata": {},
   "source": [
    "\n",
    "The output format should be as follows. You only need to give 4 solutions in the following format.\n",
    "Example Output for 4-queens Problem. Each pair of values represents the position of a queen (row, column)\n",
    "\n",
    "(0,1) (1,3) (2,0) (3,2)\n",
    "\n",
    "(0,2) (1,0) (2,3) (3,1)\n",
    "\n",
    "\n"
   ]
  },
  {
   "cell_type": "code",
   "execution_count": null,
   "metadata": {},
   "outputs": [],
   "source": []
  },
  {
   "cell_type": "code",
   "execution_count": null,
   "metadata": {},
   "outputs": [],
   "source": []
  }
 ],
 "metadata": {
  "anaconda-cloud": {},
  "kernelspec": {
   "display_name": "Python 3",
   "language": "python",
   "name": "python3"
  },
  "language_info": {
   "codemirror_mode": {
    "name": "ipython",
    "version": 3
   },
   "file_extension": ".py",
   "mimetype": "text/x-python",
   "name": "python",
   "nbconvert_exporter": "python",
   "pygments_lexer": "ipython3",
   "version": "3.8.5"
  }
 },
 "nbformat": 4,
 "nbformat_minor": 1
}
